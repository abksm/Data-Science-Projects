{
 "cells": [
  {
   "cell_type": "markdown",
   "metadata": {},
   "source": [
    "# Generating advertisement keywords for Digital Marketing\n",
    "\n",
    "The digital marketing agency you work for was approached by an online furniture retailer to create Google AdWords campaigns for their website. The client wants to generate keywords for the following products of their sofa section :<br>\n",
    "- sofas<br>\n",
    "- convertible sofas<br>\n",
    "- love seats<br>\n",
    "- recliners<br>\n",
    "- sofa beds<br>\n",
    "\n",
    "The brief: The client is generally a low-cost retailer, offering many promotions and discounts. We will need to focus on such keywords. We will also need to move away from luxury keywords and topics, as we are targeting price-sensitive customers. Because we are going to be tight on budget, it would be good to focus on a tightly targeted set of keywords and make sure they are all set to exact and phrase match.\n",
    "\n",
    "Based on the brief above we will first need to generate a list of words, that together with the products given above would make for good keywords. Here are some examples:\n",
    "\n",
    "- Products: sofas, recliners<br>\n",
    "- Words: buy, prices<br>\n",
    "\n",
    "The resulting keywords: 'buy sofas', 'sofas buy', 'buy recliners', 'recliners buy', 'prices sofas', 'sofas prices', 'prices recliners', 'recliners prices'.<br>"
   ]
  },
  {
   "cell_type": "code",
   "execution_count": 15,
   "metadata": {},
   "outputs": [],
   "source": [
    "import pandas as pd"
   ]
  },
  {
   "cell_type": "markdown",
   "metadata": {},
   "source": [
    "## Low-cost tags\n",
    "The first step is to come up with a list of words that users might use to express their desire in buying low-cost sofas."
   ]
  },
  {
   "cell_type": "code",
   "execution_count": 1,
   "metadata": {},
   "outputs": [
    {
     "name": "stdout",
     "output_type": "stream",
     "text": [
      "['buy', 'discount', 'promotion', 'cheap', 'offer', 'purchase', 'sale']\n"
     ]
    }
   ],
   "source": [
    "words=['buy', 'discount', 'promotion', 'cheap', 'offer', 'purchase', 'sale']\n",
    "print(words)"
   ]
  },
  {
   "cell_type": "markdown",
   "metadata": {},
   "source": [
    "## Combine the tags with the product names\n",
    "Next, we'll have to pair every word with every product name to generate all the possible combinations of meaningful search keywords."
   ]
  },
  {
   "cell_type": "code",
   "execution_count": 3,
   "metadata": {},
   "outputs": [
    {
     "name": "stdout",
     "output_type": "stream",
     "text": [
      "[['sofas', 'sofas buy'], ['sofas', 'buy sofas'], ['sofas', 'sofas discount'], ['sofas', 'discount sofas'], ['sofas', 'sofas promotion'], ['sofas', 'promotion sofas'], ['sofas', 'sofas cheap'], ['sofas', 'cheap sofas'], ['sofas', 'sofas offer'], ['sofas', 'offer sofas'], ['sofas', 'sofas purchase'], ['sofas', 'purchase sofas'], ['sofas', 'sofas sale'], ['sofas', 'sale sofas'], ['convertible sofas', 'convertible sofas buy'], ['convertible sofas', 'buy convertible sofas'], ['convertible sofas', 'convertible sofas discount'], ['convertible sofas', 'discount convertible sofas'], ['convertible sofas', 'convertible sofas promotion'], ['convertible sofas', 'promotion convertible sofas'], ['convertible sofas', 'convertible sofas cheap'], ['convertible sofas', 'cheap convertible sofas'], ['convertible sofas', 'convertible sofas offer'], ['convertible sofas', 'offer convertible sofas'], ['convertible sofas', 'convertible sofas purchase'], ['convertible sofas', 'purchase convertible sofas'], ['convertible sofas', 'convertible sofas sale'], ['convertible sofas', 'sale convertible sofas'], ['love seats', 'love seats buy'], ['love seats', 'buy love seats'], ['love seats', 'love seats discount'], ['love seats', 'discount love seats'], ['love seats', 'love seats promotion'], ['love seats', 'promotion love seats'], ['love seats', 'love seats cheap'], ['love seats', 'cheap love seats'], ['love seats', 'love seats offer'], ['love seats', 'offer love seats'], ['love seats', 'love seats purchase'], ['love seats', 'purchase love seats'], ['love seats', 'love seats sale'], ['love seats', 'sale love seats'], ['recliners', 'recliners buy'], ['recliners', 'buy recliners'], ['recliners', 'recliners discount'], ['recliners', 'discount recliners'], ['recliners', 'recliners promotion'], ['recliners', 'promotion recliners'], ['recliners', 'recliners cheap'], ['recliners', 'cheap recliners'], ['recliners', 'recliners offer'], ['recliners', 'offer recliners'], ['recliners', 'recliners purchase'], ['recliners', 'purchase recliners'], ['recliners', 'recliners sale'], ['recliners', 'sale recliners'], ['sofa beds', 'sofa beds buy'], ['sofa beds', 'buy sofa beds'], ['sofa beds', 'sofa beds discount'], ['sofa beds', 'discount sofa beds'], ['sofa beds', 'sofa beds promotion'], ['sofa beds', 'promotion sofa beds'], ['sofa beds', 'sofa beds cheap'], ['sofa beds', 'cheap sofa beds'], ['sofa beds', 'sofa beds offer'], ['sofa beds', 'offer sofa beds'], ['sofa beds', 'sofa beds purchase'], ['sofa beds', 'purchase sofa beds'], ['sofa beds', 'sofa beds sale'], ['sofa beds', 'sale sofa beds']]\n"
     ]
    }
   ],
   "source": [
    "products=['sofas', 'convertible sofas', 'love seats', 'recliners', 'sofa beds']\n",
    "keywords=[]\n",
    "for product in products:\n",
    "    for word in words:\n",
    "        keywords.append([product, product+' '+word])\n",
    "        keywords.append([product, word+' '+product])\n",
    "print(keywords)"
   ]
  },
  {
   "cell_type": "markdown",
   "metadata": {},
   "source": [
    "## Converting into a DataFrame\n",
    "\n",
    "Now we want to convert this list of lists into a DataFrame so we can easily manipulate it and manage the final output.\n",
    "After renaming the columns, we need to create new ones for additional information: the ```Campaign``` column for the campaign name, and the ```Criterion Type``` column.\n",
    "\n",
    "There are different keyword match types. One is exact match, which is for matching the exact term or are close variations of that exact term. Another match type is broad match, which means ads may show on searches that include misspellings, synonyms, related searches, and other relevant variations.\n",
    "\n",
    "\n",
    "Straight from Google's AdWords documentation:<br>\n",
    "\n",
    ">In general, the broader the match type, the more traffic potential that keyword will have, since your ads may be triggered more often. Conversely, a narrower match type means that your ads may show less often—but when they do, they’re likely to be more related to someone’s search.\n",
    "\n",
    "Since the client is tight on budget, we want to make sure all the keywords are in exact match at the beginning."
   ]
  },
  {
   "cell_type": "code",
   "execution_count": 21,
   "metadata": {},
   "outputs": [
    {
     "name": "stdout",
     "output_type": "stream",
     "text": [
      "     Ad Group             Keyword Campaign Criterion Type\n",
      "0       sofas           sofas buy  AdSofas          Exact\n",
      "1       sofas           buy sofas  AdSofas          Exact\n",
      "2       sofas      sofas discount  AdSofas          Exact\n",
      "3       sofas      discount sofas  AdSofas          Exact\n",
      "4       sofas     sofas promotion  AdSofas          Exact\n",
      "..        ...                 ...      ...            ...\n",
      "65  sofa beds     offer sofa beds  AdSofas          Exact\n",
      "66  sofa beds  sofa beds purchase  AdSofas          Exact\n",
      "67  sofa beds  purchase sofa beds  AdSofas          Exact\n",
      "68  sofa beds      sofa beds sale  AdSofas          Exact\n",
      "69  sofa beds      sale sofa beds  AdSofas          Exact\n",
      "\n",
      "[70 rows x 4 columns]\n"
     ]
    }
   ],
   "source": [
    "keywords_df=pd.DataFrame(keywords, columns=['product', 'keyword'])\n",
    "keywords_df.columns = ['Ad Group', 'Keyword']\n",
    "keywords_df['Campaign'] = 'AdSofas'\n",
    "keywords_df['Criterion Type'] = 'Exact'\n",
    "print(keywords_df)"
   ]
  },
  {
   "cell_type": "markdown",
   "metadata": {},
   "source": [
    "## Duplicate all the keywords into 'phrase' match\n",
    "\n",
    "The great thing about exact match is that it is very specific, and we can control the process very well. The tradeoff, however, is that:\n",
    "\n",
    "1. The search volume for exact match is lower than other match types.\n",
    "\n",
    "2. We can't possibly think of all the ways in which people search, and so, we are probably missing out on some high-quality keywords.\n",
    "\n",
    "So it's good to use another match called phrase match as a discovery mechanism to allow our ads to be triggered by keywords that include our exact match keywords, together with anything before (or after) them.\n",
    "\n",
    "\n",
    "Later on, when we launch the campaign, we can explore with modified broad match, broad match, and negative match types, for better visibility and control of our campaigns."
   ]
  },
  {
   "cell_type": "code",
   "execution_count": 23,
   "metadata": {},
   "outputs": [],
   "source": [
    "keywords_phrase = keywords_df.copy()\n",
    "keywords_phrase['Criterion Type'] = 'Phrase'\n",
    "keywords_df_final = pd.concat([keywords_df, keywords_phrase])"
   ]
  },
  {
   "cell_type": "markdown",
   "metadata": {},
   "source": [
    "## Summarizing\n",
    "\n",
    "To upload our campaign, we need to save it as a CSV file. Then we will be able to import it to AdWords editor or BingAds editor. There is also the option of pasting the data into the editor if we want, but having easy access to the saved data is great so let's save to a CSV file!\n",
    "\n",
    "Looking at a summary of our campaign structure is good now that we've wrapped up our keyword work. We can do that by grouping by ad group and criterion type and counting by keyword. This summary shows us that we assigned specific keywords to specific ad groups, which are each part of a campaign. In essence, we are telling Google (or Bing, etc.) that we want any of the words in each ad group to trigger one of the ads in the same ad group."
   ]
  },
  {
   "cell_type": "code",
   "execution_count": 24,
   "metadata": {},
   "outputs": [
    {
     "name": "stdout",
     "output_type": "stream",
     "text": [
      "Ad Group           Criterion Type\n",
      "convertible sofas  Exact             14\n",
      "                   Phrase            14\n",
      "love seats         Exact             14\n",
      "                   Phrase            14\n",
      "recliners          Exact             14\n",
      "                   Phrase            14\n",
      "sofa beds          Exact             14\n",
      "                   Phrase            14\n",
      "sofas              Exact             14\n",
      "                   Phrase            14\n",
      "Name: Keyword, dtype: int64\n"
     ]
    }
   ],
   "source": [
    "keywords_df_final.to_csv('keywords.csv', index=False)\n",
    "summary = keywords_df_final.groupby(['Ad Group', 'Criterion Type'])['Keyword'].count()\n",
    "print(summary)"
   ]
  }
 ],
 "metadata": {
  "kernelspec": {
   "display_name": "Python 3",
   "language": "python",
   "name": "python3"
  },
  "language_info": {
   "codemirror_mode": {
    "name": "ipython",
    "version": 3
   },
   "file_extension": ".py",
   "mimetype": "text/x-python",
   "name": "python",
   "nbconvert_exporter": "python",
   "pygments_lexer": "ipython3",
   "version": "3.11.8"
  }
 },
 "nbformat": 4,
 "nbformat_minor": 2
}
